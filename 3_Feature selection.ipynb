{
 "cells": [
  {
   "cell_type": "markdown",
   "id": "484fac06-b305-40d2-a733-763b2e1fa91f",
   "metadata": {},
   "source": [
    "# Feature selection"
   ]
  },
  {
   "cell_type": "markdown",
   "id": "952659da-3572-4e92-a8aa-808115153c04",
   "metadata": {},
   "source": [
    "## Провести следующие виды отбора факторных признаков:\n",
    "\n",
    "### 1. Отбор категориальных факторных признаков для задачи классификации на основе статистических критериев.\n",
    "### 2. Отбор числовых факторных признаков для задачи классификации на основе статистических критериев.\n",
    "### 3. Отбор факторных признаков для задачи регрессии (числовой результативный признак) на основе статистических критериев.\n",
    "### 4. Применение метода RFE для отбора факторных признаков в задачах классификации и регрессии.\n",
    "### 5. Оценка значимости признаков на основе модели."
   ]
  },
  {
   "cell_type": "markdown",
   "id": "8f533f9a-c29d-4932-822f-8ea2e0259d53",
   "metadata": {},
   "source": [
    "## Методика выполнения задания:"
   ]
  },
  {
   "cell_type": "markdown",
   "id": "cdb475ef-035a-43c4-9547-1273b6b5e7e9",
   "metadata": {},
   "source": [
    "### 1. Импортируем следующие модули и функции."
   ]
  },
  {
   "cell_type": "code",
   "execution_count": 1,
   "id": "911aa1e1-7ab8-4d71-9dbe-544468fb8360",
   "metadata": {},
   "outputs": [],
   "source": [
    "import os\n",
    "from pandas import read_csv\n",
    "from sklearn.datasets import make_classification\n",
    "from sklearn.datasets import make_regression\n",
    "from sklearn.preprocessing import LabelEncoder\n",
    "from sklearn.preprocessing import OrdinalEncoder\n",
    "from sklearn.feature_selection import SelectKBest\n",
    "from sklearn.feature_selection import chi2\n",
    "from sklearn.feature_selection import f_regression\n",
    "from sklearn.feature_selection import f_classif\n",
    "from sklearn.feature_selection import mutual_info_classif\n",
    "from sklearn.feature_selection import mutual_info_regression\n",
    "from sklearn.feature_selection import RFE\n",
    "from sklearn.feature_selection import RFECV\n",
    "from sklearn.feature_selection import SelectFromModel\n",
    "from sklearn.inspection import permutation_importance\n",
    "from sklearn.model_selection import train_test_split\n",
    "from sklearn.model_selection import cross_val_score\n",
    "from sklearn.model_selection import RepeatedStratifiedKFold\n",
    "from sklearn.model_selection import RepeatedKFold\n",
    "from sklearn.linear_model import LogisticRegression\n",
    "from sklearn.neighbors import KNeighborsClassifier\n",
    "from sklearn.tree import DecisionTreeClassifier\n",
    "from sklearn.ensemble import RandomForestClassifier\n",
    "from sklearn.ensemble import GradientBoostingClassifier\n",
    "from sklearn.linear_model import Perceptron\n",
    "from sklearn.linear_model import LinearRegression\n",
    "from sklearn.neighbors import KNeighborsRegressor\n",
    "from sklearn.tree import DecisionTreeRegressor\n",
    "from sklearn.ensemble import RandomForestRegressor\n",
    "from sklearn.pipeline import Pipeline\n",
    "from sklearn.metrics import accuracy_score\n",
    "from sklearn.metrics import mean_absolute_error\n",
    "from numpy import mean\n",
    "from numpy import std\n",
    "from matplotlib import pyplot"
   ]
  },
  {
   "cell_type": "markdown",
   "id": "daf61821-06f6-4827-9a93-26a165d470de",
   "metadata": {},
   "source": [
    "## Раздел 1. Отбор категориальных факторных признаков для задачи классификации на основе статистических критериев"
   ]
  },
  {
   "cell_type": "markdown",
   "id": "eb184f72-0686-49d1-a839-81e473ef7d69",
   "metadata": {},
   "source": [
    "### Напишем функцию load_dataset(), которая на вход принимает название файла и выполняет следующее:\n",
    "1. Читает файл с помощью функции read_csv() из модуля pandas и записывает результат в переменную data.\n",
    "\n",
    "2. Сохраняет в переменную dataset значения признаков, обратившись к атрибуту values.\n",
    "\n",
    "3. Выделяет в переменной dataset часть, которая относится к факторным признакам (все столбцы, кроме последнего), называет ее X, и часть, которая относится к результативному признаку (последний столбец), - y.\n",
    "\n",
    "4. Возвращает X, y."
   ]
  },
  {
   "cell_type": "code",
   "execution_count": 8,
   "id": "dc1b5b4f-ae92-4765-9337-37cb8d74aa82",
   "metadata": {},
   "outputs": [],
   "source": [
    "def load_dataset(filename):\n",
    "\t# Скачиваем датасет\n",
    "\tdata = read_csv(filename, header=None)\n",
    "\t# выбираем данные\n",
    "\tdataset = data.values\n",
    "\t# делиим на входные и выходные данные\n",
    "\tX = dataset[:, :-1]\n",
    "\ty = dataset[:,-1]\n",
    "\treturn X, y"
   ]
  },
  {
   "cell_type": "markdown",
   "id": "0beb97ef-1ed6-452a-943c-cc7b71798d91",
   "metadata": {},
   "source": [
    "Читаем файл breast-cancer.csv, воспользовавшись написанной функцией load_dataset()."
   ]
  },
  {
   "cell_type": "code",
   "execution_count": 9,
   "id": "c66f83de-5896-478b-b7d1-5afb9582acb2",
   "metadata": {},
   "outputs": [],
   "source": [
    "X, y = load_dataset(r\"D:\\Projects\\DS_Fst_course\\Prepareted_data\\breast-cancer.csv\")"
   ]
  },
  {
   "cell_type": "markdown",
   "id": "d5fb6214-f4cc-4dfd-8d85-cda599860e77",
   "metadata": {},
   "source": [
    "### Преобразуем факторные признаки в строковый тип данных с помощью функции astype(str)."
   ]
  },
  {
   "cell_type": "code",
   "execution_count": 10,
   "id": "437e9930-d54c-4cc4-80c1-aaf9019337bd",
   "metadata": {},
   "outputs": [],
   "source": [
    "X = X.astype(str)"
   ]
  },
  {
   "cell_type": "markdown",
   "id": "8c435964-6bd8-4bfb-8fbf-85a2ee05f901",
   "metadata": {},
   "source": [
    "### Разбьем выборку на обучающую и тестовую с помощью функции train_test_split(X, Y, test_size=test_size, random_state= random_state) из модуля sklearn.model_selection. \n",
    "Результат запишем в переменные X_train, X_test, Y_train, Y_test. \n",
    "\n",
    "Запишем в переменную test_size долю отложенной (тестовой) выборки.\n",
    "\n",
    "Пусть она составляет 0,33. \n",
    "\n",
    "Зададим в переменной random_state ядро случайных чисел для воспроизводимости результатов. \n",
    "\n",
    "Пусть random_state = 1."
   ]
  },
  {
   "cell_type": "code",
   "execution_count": 11,
   "id": "1688e6fe-18ce-46da-b572-ecef545f997b",
   "metadata": {},
   "outputs": [],
   "source": [
    "X_train, X_test, y_train, y_test = train_test_split(X, y, test_size=0.33, random_state=1)"
   ]
  },
  {
   "cell_type": "markdown",
   "id": "fb0797fd-ad1b-4ce8-b622-a17dfea3df21",
   "metadata": {},
   "source": [
    "Посмотрим на размерность признаков тестовой и обучающей выборки, обратившись к атрибуту shape."
   ]
  },
  {
   "cell_type": "code",
   "execution_count": 12,
   "id": "376973cc-8ed5-47c0-a996-77cd0151f5cc",
   "metadata": {},
   "outputs": [
    {
     "name": "stdout",
     "output_type": "stream",
     "text": [
      "Train (191, 9) (191,)\n",
      "Test (95, 9) (95,)\n"
     ]
    }
   ],
   "source": [
    "print('Train', X_train.shape, y_train.shape)\n",
    "print('Test', X_test.shape, y_test.shape)"
   ]
  },
  {
   "cell_type": "markdown",
   "id": "c03102c9-baa9-461d-8d15-31db88ea4b3d",
   "metadata": {},
   "source": [
    "### Напишем функцию prepare_inputs(X_train, X_test), которая на вход принимает факторные признаки обучающей и тестовой выборки и выполняет следующие действия:\n",
    "\n",
    "Создает объект oe для кодирования порядковых данных с помощью функции OrdinalEncoder() из модуля sklearn.preprocessing.\n",
    "\n",
    "Обучает его на обучающей выборке с помощью метода fit().\n",
    "\n",
    "Преобразует обучающую выборку с помощью метода transform() и результат записывает в переменную X_train_enc.\n",
    "\n",
    "Преобразует тестовую выборку с помощью метода transform() и результат записывает в переменную X_test_enc.\n",
    "\n",
    "Возвращает переменные X_train_enc, X_test_enc."
   ]
  },
  {
   "cell_type": "code",
   "execution_count": 13,
   "id": "56dbe154-cafd-488c-866a-fe622c3ac3f9",
   "metadata": {},
   "outputs": [],
   "source": [
    "def prepare_inputs(X_train, X_test):\n",
    "\toe = OrdinalEncoder()\n",
    "\toe.fit(X_train)\n",
    "\tX_train_enc = oe.transform(X_train)\n",
    "\tX_test_enc = oe.transform(X_test)\n",
    "\treturn X_train_enc, X_test_enc"
   ]
  },
  {
   "cell_type": "markdown",
   "id": "bc629f09-2d7e-474e-ac3f-7f0e0f89e4ea",
   "metadata": {},
   "source": [
    "### Напишем функцию prepare_targets(y_train, y_test), которая на вход принимает результативный признак обучающей и тестовой выборки и выполняет следующие действия:\n",
    "\n",
    "Создает объект le для кодирования результативного признака с помощью функции LabelEncoder() из модуля sklearn.preprocessing.\n",
    "\n",
    "Обучает его на обучающей выборке с помощью метода fit().\n",
    "\n",
    "Преобразует обучающую выборку с помощью метода transform() и результат записывает в переменную y_train_enc.\n",
    "\n",
    "Преобразует тестовую выборку с помощью метода transform() и результат записывает в переменную y_test_enc.\n",
    "\n",
    "Возвращает переменные y_train_enc, y_test_enc."
   ]
  },
  {
   "cell_type": "code",
   "execution_count": 14,
   "id": "002c1df2-e176-4117-8323-335dd1832703",
   "metadata": {},
   "outputs": [],
   "source": [
    "def prepare_targets(y_train, y_test):\n",
    "\tle = LabelEncoder()\n",
    "\tle.fit(y_train)\n",
    "\ty_train_enc = le.transform(y_train)\n",
    "\ty_test_enc = le.transform(y_test)\n",
    "\treturn y_train_enc, y_test_enc"
   ]
  },
  {
   "cell_type": "markdown",
   "id": "117f3e96-6dfd-4474-822e-f34b3870fd79",
   "metadata": {},
   "source": [
    "### Закодируем факторные признаки обучающего и тестового набора с помощью написанной функции prepare_inputs(). Результат запишите в переменные X_train_enc, X_test_enc."
   ]
  },
  {
   "cell_type": "code",
   "execution_count": 15,
   "id": "500ee8c5-33ce-49b6-989a-02fbcc3c6ac8",
   "metadata": {},
   "outputs": [],
   "source": [
    "X_train_enc, X_test_enc = prepare_inputs(X_train, X_test)"
   ]
  },
  {
   "cell_type": "markdown",
   "id": "a6c37a38-a2ad-410f-9dd5-9a48a8863b36",
   "metadata": {},
   "source": [
    "### Закодируем результативный признак обучающего и тестового набора с помощью написанной функции prepare_targets(). Результат запишем в переменные y_train_enc, y_test_enc."
   ]
  },
  {
   "cell_type": "code",
   "execution_count": 16,
   "id": "57dde3a3-3957-4e0a-91e1-8df01f569ee5",
   "metadata": {},
   "outputs": [],
   "source": [
    "y_train_enc, y_test_enc = prepare_targets(y_train, y_test)"
   ]
  },
  {
   "cell_type": "markdown",
   "id": "09fd7b91-9080-41a6-b649-a6cc28a76914",
   "metadata": {},
   "source": [
    "Убеждаемся в том, что размерность признаков сохранилась."
   ]
  },
  {
   "cell_type": "code",
   "execution_count": 17,
   "id": "f5afa447-3266-47ef-a306-ed2303d68a78",
   "metadata": {},
   "outputs": [
    {
     "name": "stdout",
     "output_type": "stream",
     "text": [
      "Train (191, 9) (191,)\n",
      "Test (95, 9) (95,)\n"
     ]
    }
   ],
   "source": [
    "print('Train', X_train_enc.shape, y_train_enc.shape)\n",
    "print('Test', X_test_enc.shape, y_test_enc.shape)"
   ]
  },
  {
   "cell_type": "markdown",
   "id": "b5cf3f03-103a-458a-8512-9a25da7f3efe",
   "metadata": {},
   "source": [
    "### Напишем функцию select_features(X_train, y_train, X_test, score_func, k), которая на вход принимает факторные признаки обучающей и тестовой выборки, результативный признак обучающей выборки, а также статистический критерий для отбора признаков score_func и параметр k, отвечающий за количество отбираемых признаков, и выполняет следующие действия:\n",
    "\n",
    "Создает объект fs для отбора признаков на основе статистического критерия с помощью функции SelectKBest(score_func=score_func, k=k) из модуля sklearn.feature_selection.\n",
    "\n",
    "Обучает его на факторных и результативном признаке обучающей выборки с помощью метода fit().\n",
    "\n",
    "Преобразует факторные признаки обучающей выборки с помощью метода transform() и результат записывает в переменную X_train_fs.\n",
    "\n",
    "Преобразует факторные признаки тестовой выборки с помощью метода transform() и результат записывает в переменную X_test_fs.\n",
    "\n",
    "Возвращает переменные X_train_fs, X_test_fs, fs."
   ]
  },
  {
   "cell_type": "code",
   "execution_count": 18,
   "id": "a3c3ba47-915e-421f-a728-49cc603db2ee",
   "metadata": {},
   "outputs": [],
   "source": [
    "def select_features(X_train, y_train, X_test, score_func, k):\n",
    "\tfs = SelectKBest(score_func=score_func, k=k)\n",
    "\tfs.fit(X_train, y_train)\n",
    "\tX_train_fs = fs.transform(X_train)\n",
    "\tX_test_fs = fs.transform(X_test)\n",
    "\treturn X_train_fs, X_test_fs, fs"
   ]
  },
  {
   "cell_type": "markdown",
   "id": "f08c65f6-e7c4-4911-b2b6-77054be38ff8",
   "metadata": {},
   "source": [
    "### Применим написанную функцию select_features() и статистический критерий хи-квадрат, реализуемый в функции chi2 из модуля sklearn.feature_selection. Пусть будут отобраны все признаки (k='all')."
   ]
  },
  {
   "cell_type": "code",
   "execution_count": 19,
   "id": "d35a1976-8ad9-4c10-83c5-96a41dc058be",
   "metadata": {},
   "outputs": [],
   "source": [
    "X_train_fs, X_test_fs, fs = select_features(X_train_enc, y_train_enc, X_test_enc, chi2, k='all')"
   ]
  },
  {
   "cell_type": "markdown",
   "id": "b7a3e8cf-9780-4a73-8914-fad51f26f06f",
   "metadata": {},
   "source": [
    "Выведем на экран значения критерия хи-квадрат для каждого признака, \n",
    "воспользовавшись инструкцией for, функцией print(), \n",
    "а также обратившись к атрибуту scores_ объекта fs."
   ]
  },
  {
   "cell_type": "code",
   "execution_count": 20,
   "id": "b79da2f2-0fb2-4db1-8337-571abe6d8c90",
   "metadata": {},
   "outputs": [
    {
     "name": "stdout",
     "output_type": "stream",
     "text": [
      "Feature 0: 0.472553\n",
      "Feature 1: 0.029193\n",
      "Feature 2: 2.137658\n",
      "Feature 3: 29.381059\n",
      "Feature 4: 8.222601\n",
      "Feature 5: 8.100183\n",
      "Feature 6: 1.273822\n",
      "Feature 7: 0.950682\n",
      "Feature 8: 3.699989\n"
     ]
    }
   ],
   "source": [
    "for i in range(len(fs.scores_)):\n",
    "\tprint('Feature %d: %f' % (i, fs.scores_[i]))"
   ]
  },
  {
   "cell_type": "markdown",
   "id": "a2af78ea-fe3a-452a-a564-b66cf5780a35",
   "metadata": {},
   "source": [
    "### Нарисуем столбиковую диаграмму, воспользовавшись функциями bar(), show() из модуля matplotlib.pyplot."
   ]
  },
  {
   "cell_type": "code",
   "execution_count": 21,
   "id": "6a1911d4-505f-41bf-9d6a-7bcd0e4aa848",
   "metadata": {},
   "outputs": [
    {
     "data": {
      "image/png": "[encoded data removed]",
      "text/plain": [
       "<Figure size 640x480 with 1 Axes>"
      ]
     },
     "metadata": {},
     "output_type": "display_data"
    }
   ],
   "source": [
    "pyplot.bar([i for i in range(len(fs.scores_))], fs.scores_)\n",
    "pyplot.show()"
   ]
  },
  {
   "cell_type": "markdown",
   "id": "9ec7d8d4-568c-4f0f-88a9-30bca7ca678e",
   "metadata": {},
   "source": [
    "Построим модель логистической регрессии на всех признаках обучающего набора и проверьте ее качество на тестовой выборке."
   ]
  },
  {
   "cell_type": "code",
   "execution_count": 22,
   "id": "bbffdff8-9d76-4109-a4d5-52f05346f95a",
   "metadata": {},
   "outputs": [
    {
     "name": "stdout",
     "output_type": "stream",
     "text": [
      "Accuracy: 75.79\n"
     ]
    }
   ],
   "source": [
    "# fit the model\n",
    "model = LogisticRegression(solver='lbfgs')\n",
    "model.fit(X_train_enc, y_train_enc)\n",
    "\n",
    "# evaluate the model\n",
    "yhat = model.predict(X_test_enc)\n",
    "\n",
    "# evaluate predictions\n",
    "accuracy = accuracy_score(y_test_enc, yhat)\n",
    "print('Accuracy: %.2f' % (accuracy*100))"
   ]
  },
  {
   "cell_type": "markdown",
   "id": "b15e8dee-63bc-4c2c-8507-2b1d6a75aa58",
   "metadata": {},
   "source": [
    "Отберем 4 признака на основе критерия хи-квадрат и построим модель логистической регрессии"
   ]
  },
  {
   "cell_type": "code",
   "execution_count": 24,
   "id": "f359fc3e-86f4-449c-a1ad-3f87a4288c1d",
   "metadata": {},
   "outputs": [],
   "source": [
    "X_train_fs, X_test_fs, fs = select_features(X_train_enc, y_train_enc, X_test_enc, chi2, k=4)"
   ]
  },
  {
   "cell_type": "code",
   "execution_count": 25,
   "id": "2fdca766-fc9d-45f4-9e56-790098c33bb8",
   "metadata": {},
   "outputs": [
    {
     "name": "stdout",
     "output_type": "stream",
     "text": [
      "Accuracy: 74.74\n"
     ]
    }
   ],
   "source": [
    "# fit the model\n",
    "model = LogisticRegression(solver='lbfgs')\n",
    "model.fit(X_train_fs, y_train_enc)\n",
    "\n",
    "# evaluate the model\n",
    "yhat = model.predict(X_test_fs)\n",
    "\n",
    "# evaluate predictions\n",
    "accuracy = accuracy_score(y_test_enc, yhat)\n",
    "print('Accuracy: %.2f' % (accuracy*100))"
   ]
  },
  {
   "cell_type": "markdown",
   "id": "ca49fe3f-3997-4f73-ba7c-d5d8a73e4b00",
   "metadata": {},
   "source": [
    "Применим написанную функцию select_features() и критерий взаимной информации,\n",
    "реализуемый в функции mutual_info_classif из модуля sklearn.feature_selection. \n",
    "Пусть будут отобраны все признаки (k='all')."
   ]
  },
  {
   "cell_type": "code",
   "execution_count": 26,
   "id": "b3ab4503-1ce5-40f0-9edc-fe92623e1c95",
   "metadata": {},
   "outputs": [],
   "source": [
    "X_train_fs, X_test_fs, fs = select_features(X_train_enc, y_train_enc, X_test_enc, mutual_info_classif, k='all')"
   ]
  },
  {
   "cell_type": "markdown",
   "id": "c282775f-5c90-4268-b33c-510e5fdc4f16",
   "metadata": {},
   "source": [
    "Выведем на экран значения критерия взаимной информации для каждого признака, \n",
    "воспользовавшись инструкцией for, функцией print(),\n",
    "а также обратившись к атрибуту scores_ объекта fs."
   ]
  },
  {
   "cell_type": "code",
   "execution_count": 27,
   "id": "40a02242-3699-45ba-a27e-0e50440b4510",
   "metadata": {},
   "outputs": [
    {
     "name": "stdout",
     "output_type": "stream",
     "text": [
      "Feature 0: 0.000000\n",
      "Feature 1: 0.019667\n",
      "Feature 2: 0.037731\n",
      "Feature 3: 0.025059\n",
      "Feature 4: 0.029738\n",
      "Feature 5: 0.042157\n",
      "Feature 6: 0.039137\n",
      "Feature 7: 0.007829\n",
      "Feature 8: 0.014327\n"
     ]
    }
   ],
   "source": [
    "for i in range(len(fs.scores_)):\n",
    "\tprint('Feature %d: %f' % (i, fs.scores_[i]))"
   ]
  },
  {
   "cell_type": "markdown",
   "id": "f1beef18-1dd8-466b-ae47-56a5d14c4f1e",
   "metadata": {},
   "source": [
    "Нарисуем столбиковую диаграмму, воспользовавшись функциями bar(), \n",
    "show() из модуля matplotlib.pyplot."
   ]
  },
  {
   "cell_type": "code",
   "execution_count": 28,
   "id": "903af9bd-881c-4696-a7ce-f050df29849d",
   "metadata": {},
   "outputs": [
    {
     "data": {
      "image/png": "[encoded data removed]",
      "text/plain": [
       "<Figure size 640x480 with 1 Axes>"
      ]
     },
     "metadata": {},
     "output_type": "display_data"
    }
   ],
   "source": [
    "pyplot.bar([i for i in range(len(fs.scores_))], fs.scores_)\n",
    "pyplot.show()"
   ]
  },
  {
   "cell_type": "markdown",
   "id": "ceb619a9-b70f-4f96-b28e-4481a8a89a71",
   "metadata": {},
   "source": [
    "Отберем 4 признака на основе критерия взаимной информации и постройте модель логистической регрессии. "
   ]
  },
  {
   "cell_type": "code",
   "execution_count": 29,
   "id": "9e0cb87f-1baf-4be2-99bc-4d12cb5cf7bc",
   "metadata": {},
   "outputs": [
    {
     "name": "stdout",
     "output_type": "stream",
     "text": [
      "Accuracy: 75.79\n"
     ]
    }
   ],
   "source": [
    "# fit the model\n",
    "model = LogisticRegression(solver='lbfgs')\n",
    "model.fit(X_train_fs, y_train_enc)\n",
    "\n",
    "# evaluate the model\n",
    "yhat = model.predict(X_test_fs)\n",
    "\n",
    "# evaluate predictions\n",
    "accuracy = accuracy_score(y_test_enc, yhat)\n",
    "print('Accuracy: %.2f' % (accuracy*100))"
   ]
  },
  {
   "cell_type": "markdown",
   "id": "bbc1fce3-9ac1-4e84-9044-947e4be9b271",
   "metadata": {},
   "source": [
    "## Раздел 2. Отбор числовых факторных признаков для задачи классификации на основе статистических критериев"
   ]
  },
  {
   "cell_type": "markdown",
   "id": "a5624e5d-a529-44d2-aef4-e0551d8394b1",
   "metadata": {},
   "source": [
    "### Прочитаем файл pima-indians-diabetes.csv, воспользовавшись написанной функцией load_dataset()."
   ]
  },
  {
   "cell_type": "code",
   "execution_count": 30,
   "id": "ad63cc45-67f0-473b-ae2c-8f97aead9597",
   "metadata": {},
   "outputs": [],
   "source": [
    "X, y = load_dataset(\"D:\\Projects\\DS_Fst_course\\Prepareted_data\\pima-indians-diabetes.csv\")"
   ]
  },
  {
   "cell_type": "markdown",
   "id": "6de2d519-ba1a-4457-a1d0-2f1c1410cbe8",
   "metadata": {},
   "source": [
    "### Разобъем выборку на обучающую и тестовую с помощью функции train_test_split(X, Y, test_size=test_size, random_state= random_state) из модуля sklearn.model_selection. Результат запишем в переменные X_train, X_test, Y_train, Y_test. Запишем в переменную test_size долю отложенной (тестовой) выборки. Пусть она составляет 0,33. Зададим в переменной random_state ядро случайных чисел для воспроизводимости результатов. Пусть random_state = 1."
   ]
  },
  {
   "cell_type": "code",
   "execution_count": 33,
   "id": "9e82e0b7-a932-4df3-9644-416f7d2a115c",
   "metadata": {},
   "outputs": [],
   "source": [
    "X_train, X_test, y_train, y_test = train_test_split(X, y, test_size=0.33, random_state=1)"
   ]
  },
  {
   "cell_type": "markdown",
   "id": "6a626d78-f255-4fdd-8bff-6ef7247b7c4e",
   "metadata": {},
   "source": [
    "### Посмотрим на размерность признаков тестовой и обучающей выборки, обратившись к атрибуту shape."
   ]
  },
  {
   "cell_type": "code",
   "execution_count": 34,
   "id": "6162fb3e-9b3f-4e21-a8ca-b9013551cb6f",
   "metadata": {},
   "outputs": [
    {
     "name": "stdout",
     "output_type": "stream",
     "text": [
      "Train (514, 8) (514,)\n",
      "Test (254, 8) (254,)\n"
     ]
    }
   ],
   "source": [
    "print('Train', X_train.shape, y_train.shape)\n",
    "print('Test', X_test.shape, y_test.shape)"
   ]
  },
  {
   "cell_type": "markdown",
   "id": "800107e1-c008-4069-9d1d-edde54415074",
   "metadata": {},
   "source": [
    "### Применим написанную функцию select_features() и метод дисперсионного анализа, реализуемый в функции f_classif из модуля sklearn.feature_selection. Пусть будут отобраны все признаки (k='all')."
   ]
  },
  {
   "cell_type": "code",
   "execution_count": 35,
   "id": "b51b3973-d4e9-4488-95fc-acc10d1d81f7",
   "metadata": {},
   "outputs": [],
   "source": [
    "X_train_fs, X_test_fs, fs = select_features(X_train, y_train, X_test, f_classif, k='all')"
   ]
  },
  {
   "cell_type": "markdown",
   "id": "c99ab1cd-6406-48bf-b233-fc65b675189e",
   "metadata": {},
   "source": [
    "### Выведем на экран значения F критерия для каждого признака, воспользовавшись инструкцией for, функцией print(), а также обратившись к атрибуту scores_ объекта fs."
   ]
  },
  {
   "cell_type": "code",
   "execution_count": 36,
   "id": "7c2a6dfd-a869-4c59-b58d-49e959392437",
   "metadata": {},
   "outputs": [
    {
     "name": "stdout",
     "output_type": "stream",
     "text": [
      "Feature 0: 16.527385\n",
      "Feature 1: 131.325562\n",
      "Feature 2: 0.042371\n",
      "Feature 3: 1.415216\n",
      "Feature 4: 12.778966\n",
      "Feature 5: 49.209523\n",
      "Feature 6: 13.377142\n",
      "Feature 7: 25.126440\n"
     ]
    }
   ],
   "source": [
    "for i in range(len(fs.scores_)):\n",
    "\tprint('Feature %d: %f' % (i, fs.scores_[i]))"
   ]
  },
  {
   "cell_type": "code",
   "execution_count": 37,
   "id": "4e813bf6-b809-4223-9a2d-b4187c981e5c",
   "metadata": {},
   "outputs": [
    {
     "data": {
      "image/png": "[encoded data removed]",
      "text/plain": [
       "<Figure size 640x480 with 1 Axes>"
      ]
     },
     "metadata": {},
     "output_type": "display_data"
    }
   ],
   "source": [
    "# Нарисуем столбиковую диаграмму, воспользовавшись функциями bar(), \n",
    "# show() из модуля matplotlib.pyplot. \n",
    "pyplot.bar([i for i in range(len(fs.scores_))], fs.scores_)\n",
    "pyplot.show()"
   ]
  },
  {
   "cell_type": "markdown",
   "id": "5dd90827-23b2-42b6-a1c9-bf5957930c09",
   "metadata": {},
   "source": [
    "### Применим написанную функцию select_features() и критерий взаимной информации, реализуемый в функции mutual_info_classif из модуля sklearn.feature_selection. Пусть будут отобраны все признаки (k='all')."
   ]
  },
  {
   "cell_type": "code",
   "execution_count": 38,
   "id": "25852ec1-7060-4915-be40-b4d8c95d3f5c",
   "metadata": {},
   "outputs": [],
   "source": [
    "X_train_fs, X_test_fs, fs = select_features(X_train, y_train, X_test, mutual_info_classif, k='all')"
   ]
  },
  {
   "cell_type": "code",
   "execution_count": 39,
   "id": "2aee4f7a-8863-48fd-9944-b7bb8dda9e58",
   "metadata": {},
   "outputs": [],
   "source": [
    "# Выведем на экран значения критерия взаимной информации для каждого признака, \n",
    "# воспользовавшись инструкцией for, функцией print(), а также обратившись к атрибуту scores_ объекта fs."
   ]
  },
  {
   "cell_type": "code",
   "execution_count": 40,
   "id": "cf2da85c-7d63-4ae9-ad08-b31792c0cc74",
   "metadata": {},
   "outputs": [
    {
     "name": "stdout",
     "output_type": "stream",
     "text": [
      "Feature 0: 0.000000\n",
      "Feature 1: 0.109366\n",
      "Feature 2: 0.009085\n",
      "Feature 3: 0.028868\n",
      "Feature 4: 0.038108\n",
      "Feature 5: 0.080432\n",
      "Feature 6: 0.016744\n",
      "Feature 7: 0.079478\n"
     ]
    }
   ],
   "source": [
    "for i in range(len(fs.scores_)):\n",
    "\tprint('Feature %d: %f' % (i, fs.scores_[i]))"
   ]
  },
  {
   "cell_type": "code",
   "execution_count": 41,
   "id": "c6566395-9751-4a27-a589-ebb89a4578a9",
   "metadata": {},
   "outputs": [
    {
     "data": {
      "image/png": "[encoded data removed]",
      "text/plain": [
       "<Figure size 640x480 with 1 Axes>"
      ]
     },
     "metadata": {},
     "output_type": "display_data"
    }
   ],
   "source": [
    "# Нарисуйте столбиковую диаграмму, воспользовавшись функциями bar(), \n",
    "# show() из модуля matplotlib.pyplot. \n",
    "pyplot.bar([i for i in range(len(fs.scores_))], fs.scores_)\n",
    "pyplot.show()"
   ]
  },
  {
   "cell_type": "code",
   "execution_count": 42,
   "id": "d1eeebce-0174-4a21-99e9-85445d27d3e6",
   "metadata": {},
   "outputs": [],
   "source": [
    "# Построим модель логистической регрессии на всех признаках обучающего набора и \n",
    "# проверим ее качество на тестовой выборке."
   ]
  },
  {
   "cell_type": "code",
   "execution_count": 43,
   "id": "3c50ea23-327c-483a-92da-e86383d6a2d0",
   "metadata": {},
   "outputs": [
    {
     "name": "stdout",
     "output_type": "stream",
     "text": [
      "Accuracy: 77.56\n"
     ]
    }
   ],
   "source": [
    "# fit the model\n",
    "model = LogisticRegression(solver='liblinear')\n",
    "model.fit(X_train, y_train)\n",
    "\n",
    "# evaluate the model\n",
    "yhat = model.predict(X_test)\n",
    "\n",
    "# evaluate predictions\n",
    "accuracy = accuracy_score(y_test, yhat)\n",
    "print('Accuracy: %.2f' % (accuracy*100))"
   ]
  },
  {
   "cell_type": "markdown",
   "id": "77c0a996-ac21-4a1b-9525-b80e62217d13",
   "metadata": {},
   "source": [
    "### Отберем 4 признака на основе метода дисперсионного анализа и построим модель логистической регрессии."
   ]
  },
  {
   "cell_type": "code",
   "execution_count": 44,
   "id": "5e95763f-da41-4bf4-a769-4c39692be58f",
   "metadata": {},
   "outputs": [],
   "source": [
    "X_train_fs, X_test_fs, fs = select_features(X_train, y_train, X_test, f_classif, k=4)"
   ]
  },
  {
   "cell_type": "code",
   "execution_count": 45,
   "id": "c39152a6-c94e-4149-b198-b78fcebafdd7",
   "metadata": {},
   "outputs": [
    {
     "name": "stdout",
     "output_type": "stream",
     "text": [
      "Accuracy: 77.56\n"
     ]
    }
   ],
   "source": [
    "# fit the model\n",
    "model = LogisticRegression(solver='lbfgs')\n",
    "model.fit(X_train_fs, y_train)\n",
    "\n",
    "# evaluate the model\n",
    "yhat = model.predict(X_test_fs)\n",
    "\n",
    "# evaluate predictions\n",
    "accuracy = accuracy_score(y_test, yhat)\n",
    "print('Accuracy: %.2f' % (accuracy*100))"
   ]
  },
  {
   "cell_type": "markdown",
   "id": "22a3e3b0-71b7-487b-b631-13ade89fb58f",
   "metadata": {},
   "source": [
    "### Отберем 4 признака на основе критерия взаимной информации и построим модель логистической регрессии."
   ]
  },
  {
   "cell_type": "code",
   "execution_count": 46,
   "id": "91306d83-c174-44b4-bf76-02015437ed1e",
   "metadata": {},
   "outputs": [],
   "source": [
    "X_train_fs, X_test_fs, fs = select_features(X_train, y_train, X_test, mutual_info_classif, k=4)"
   ]
  },
  {
   "cell_type": "code",
   "execution_count": 47,
   "id": "b369032a-040e-4528-96cd-1e06b09b29a2",
   "metadata": {},
   "outputs": [
    {
     "name": "stdout",
     "output_type": "stream",
     "text": [
      "Accuracy: 77.56\n"
     ]
    }
   ],
   "source": [
    "# fit the model\n",
    "model = LogisticRegression(solver='lbfgs')\n",
    "model.fit(X_train_fs, y_train)\n",
    "\n",
    "# evaluate the model\n",
    "yhat = model.predict(X_test_fs)\n",
    "\n",
    "# evaluate predictions\n",
    "accuracy = accuracy_score(y_test, yhat)\n",
    "print('Accuracy: %.2f' % (accuracy*100))"
   ]
  },
  {
   "cell_type": "code",
   "execution_count": null,
   "id": "43e0c164-2e45-4416-8baa-3ac0231ef91c",
   "metadata": {},
   "outputs": [],
   "source": []
  }
 ],
 "metadata": {
  "kernelspec": {
   "display_name": "Python 3 (ipykernel)",
   "language": "python",
   "name": "python3"
  },
  "language_info": {
   "codemirror_mode": {
    "name": "ipython",
    "version": 3
   },
   "file_extension": ".py",
   "mimetype": "text/x-python",
   "name": "python",
   "nbconvert_exporter": "python",
   "pygments_lexer": "ipython3",
   "version": "3.9.13"
  }
 },
 "nbformat": 4,
 "nbformat_minor": 5
}
